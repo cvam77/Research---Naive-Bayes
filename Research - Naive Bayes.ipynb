{
 "cells": [
  {
   "cell_type": "code",
   "execution_count": 65,
   "metadata": {},
   "outputs": [],
   "source": [
    "import pandas as pd\n",
    "import seaborn as sns\n",
    "import matplotlib.pyplot as plt\n",
    "\n",
    "\n",
    "raw_dataset=pd.read_excel(\"OTV_Data.xlsx\")\n",
    "\n",
    "dataset = raw_dataset.copy()\n",
    "\n",
    "experiment = pd.DataFrame()\n",
    "\n",
    "#the first dependent variable\n",
    "experiment['EpiT_Avg_R']=dataset['EpiT_Avg_R']\n",
    "experiment['EpiT_Avg_R'] = pd.to_numeric(experiment['EpiT_Avg_R'],errors='coerce')\n",
    "\n",
    "\n",
    "#independent variable\n",
    "experiment['cpt3_c_T'] = dataset['cpt3_c_T']\n",
    "experiment['cpt3_c_T'] = pd.to_numeric(experiment['cpt3_c_T'],errors='coerce')\n",
    "\n",
    "experiment['cpt3_dpr_T'] = dataset['cpt3_dpr_T']\n",
    "experiment['cpt3_dpr_T'] = pd.to_numeric(experiment['cpt3_dpr_T'],errors='coerce')\n",
    "\n",
    "experiment['cpt3_omi_T'] = dataset['cpt3_omi_T']\n",
    "experiment['cpt3_omi_T'] = pd.to_numeric(experiment['cpt3_omi_T'],errors='coerce')\n",
    "\n",
    "experiment = experiment.dropna()\n",
    "experiment = experiment.drop(experiment[experiment['EpiT_Avg_R']>900].index)\n",
    "\n",
    "experiment = experiment.drop(experiment[experiment['cpt3_c_T']>900].index)\n",
    "\n",
    "experiment = experiment.drop(experiment[experiment['cpt3_dpr_T']>900].index)\n",
    "\n",
    "experiment = experiment.drop(experiment[experiment['cpt3_omi_T']>900].index)\n",
    "\n",
    "# sns.pairplot(experiment)\n",
    "\n",
    "# plt.plot(experiment['cpt3_dpr_T'],experiment['EpiT_Avg_R'])\n",
    "# plt.show()\n",
    "\n",
    "# sns.pairplot(experiment[['EpiT_Avg_R', 'cpt3_c_T', 'cpt3_dpr_T','cpt3_omi_T', 'cpt3_com_T']],diag_kind=\"kde\")\n",
    "\n",
    "# training and testing dataset\n",
    "# train_dataset = experiment.sample(frac=0.8, random_state=0)\n",
    "# test_dataset = experiment.drop(train_dataset.index)\n",
    "\n",
    "# train_stats = train_dataset.describe()\n",
    "# train_stats.pop('EpiT_Avg_R')\n",
    "# train_stats = train_stats.transpose()\n",
    "\n",
    "# train_labels = train_dataset.pop('EpiT_Avg_R')\n",
    "# test_labels = test_dataset.pop('EpiT_Avg_R')\n",
    "\n",
    "# #normalize the data\n",
    "# def norm(x):\n",
    "#     return (x - train_stats['mean']) / train_stats['std']\n",
    "\n",
    "# normed_train_data = norm(train_dataset)\n",
    "# normed_test_data = norm(test_dataset)\n",
    "\n",
    "target = experiment.EpiT_Avg_R\n",
    "inputs = experiment.drop('EpiT_Avg_R',axis='columns')\n",
    "\n",
    "from sklearn.model_selection import train_test_split\n",
    "\n",
    "inputs=inputs.astype('int')\n",
    "target=target.astype('int')\n",
    "X_train, X_test, y_train, y_test = train_test_split(inputs,target,test_size=0.2)\n",
    "\n",
    "\n",
    "\n",
    "from sklearn.naive_bayes import GaussianNB\n",
    "model = GaussianNB()\n"
   ]
  },
  {
   "cell_type": "code",
   "execution_count": 66,
   "metadata": {},
   "outputs": [
    {
     "data": {
      "text/plain": [
       "GaussianNB()"
      ]
     },
     "execution_count": 66,
     "metadata": {},
     "output_type": "execute_result"
    }
   ],
   "source": [
    "# type(inputs)\n",
    "model.fit(X_train,y_train)\n"
   ]
  },
  {
   "cell_type": "code",
   "execution_count": 67,
   "metadata": {},
   "outputs": [
    {
     "data": {
      "text/plain": [
       "0.4482758620689655"
      ]
     },
     "execution_count": 67,
     "metadata": {},
     "output_type": "execute_result"
    }
   ],
   "source": [
    "model.score(X_test,y_test)"
   ]
  },
  {
   "cell_type": "code",
   "execution_count": 68,
   "metadata": {},
   "outputs": [
    {
     "data": {
      "text/html": [
       "<div>\n",
       "<style scoped>\n",
       "    .dataframe tbody tr th:only-of-type {\n",
       "        vertical-align: middle;\n",
       "    }\n",
       "\n",
       "    .dataframe tbody tr th {\n",
       "        vertical-align: top;\n",
       "    }\n",
       "\n",
       "    .dataframe thead th {\n",
       "        text-align: right;\n",
       "    }\n",
       "</style>\n",
       "<table border=\"1\" class=\"dataframe\">\n",
       "  <thead>\n",
       "    <tr style=\"text-align: right;\">\n",
       "      <th></th>\n",
       "      <th>cpt3_c_T</th>\n",
       "      <th>cpt3_dpr_T</th>\n",
       "      <th>cpt3_omi_T</th>\n",
       "    </tr>\n",
       "  </thead>\n",
       "  <tbody>\n",
       "    <tr>\n",
       "      <th>85</th>\n",
       "      <td>39</td>\n",
       "      <td>69</td>\n",
       "      <td>53</td>\n",
       "    </tr>\n",
       "    <tr>\n",
       "      <th>101</th>\n",
       "      <td>53</td>\n",
       "      <td>66</td>\n",
       "      <td>61</td>\n",
       "    </tr>\n",
       "    <tr>\n",
       "      <th>93</th>\n",
       "      <td>53</td>\n",
       "      <td>48</td>\n",
       "      <td>47</td>\n",
       "    </tr>\n",
       "    <tr>\n",
       "      <th>94</th>\n",
       "      <td>70</td>\n",
       "      <td>59</td>\n",
       "      <td>66</td>\n",
       "    </tr>\n",
       "    <tr>\n",
       "      <th>99</th>\n",
       "      <td>45</td>\n",
       "      <td>50</td>\n",
       "      <td>45</td>\n",
       "    </tr>\n",
       "    <tr>\n",
       "      <th>130</th>\n",
       "      <td>48</td>\n",
       "      <td>67</td>\n",
       "      <td>61</td>\n",
       "    </tr>\n",
       "    <tr>\n",
       "      <th>136</th>\n",
       "      <td>60</td>\n",
       "      <td>67</td>\n",
       "      <td>70</td>\n",
       "    </tr>\n",
       "    <tr>\n",
       "      <th>133</th>\n",
       "      <td>80</td>\n",
       "      <td>72</td>\n",
       "      <td>90</td>\n",
       "    </tr>\n",
       "    <tr>\n",
       "      <th>11</th>\n",
       "      <td>50</td>\n",
       "      <td>39</td>\n",
       "      <td>45</td>\n",
       "    </tr>\n",
       "    <tr>\n",
       "      <th>115</th>\n",
       "      <td>56</td>\n",
       "      <td>59</td>\n",
       "      <td>56</td>\n",
       "    </tr>\n",
       "  </tbody>\n",
       "</table>\n",
       "</div>"
      ],
      "text/plain": [
       "     cpt3_c_T  cpt3_dpr_T  cpt3_omi_T\n",
       "85         39          69          53\n",
       "101        53          66          61\n",
       "93         53          48          47\n",
       "94         70          59          66\n",
       "99         45          50          45\n",
       "130        48          67          61\n",
       "136        60          67          70\n",
       "133        80          72          90\n",
       "11         50          39          45\n",
       "115        56          59          56"
      ]
     },
     "execution_count": 68,
     "metadata": {},
     "output_type": "execute_result"
    }
   ],
   "source": [
    "X_test[:10]"
   ]
  },
  {
   "cell_type": "code",
   "execution_count": 69,
   "metadata": {},
   "outputs": [
    {
     "data": {
      "text/plain": [
       "85     2\n",
       "101    3\n",
       "93     2\n",
       "94     3\n",
       "99     2\n",
       "130    3\n",
       "136    1\n",
       "133    1\n",
       "11     2\n",
       "115    2\n",
       "Name: EpiT_Avg_R, dtype: int32"
      ]
     },
     "execution_count": 69,
     "metadata": {},
     "output_type": "execute_result"
    }
   ],
   "source": [
    "y_test[:10]"
   ]
  },
  {
   "cell_type": "code",
   "execution_count": null,
   "metadata": {},
   "outputs": [],
   "source": []
  }
 ],
 "metadata": {
  "kernelspec": {
   "display_name": "Python 3",
   "language": "python",
   "name": "python3"
  },
  "language_info": {
   "codemirror_mode": {
    "name": "ipython",
    "version": 3
   },
   "file_extension": ".py",
   "mimetype": "text/x-python",
   "name": "python",
   "nbconvert_exporter": "python",
   "pygments_lexer": "ipython3",
   "version": "3.8.5"
  }
 },
 "nbformat": 4,
 "nbformat_minor": 4
}
